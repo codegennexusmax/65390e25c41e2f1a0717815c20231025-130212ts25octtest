{
 "cells": [
  {
   "cell_type": "markdown",
   "id": "49503715",
   "metadata": {},
   "source": [
    "***GENERATED CODE FOR ts25octtest PIPELINE.***"
   ]
  },
  {
   "cell_type": "markdown",
   "id": "1aeee6a9",
   "metadata": {},
   "source": [
    "***DON'T EDIT THIS CODE.***"
   ]
  },
  {
   "cell_type": "markdown",
   "id": "dde7ba98",
   "metadata": {},
   "source": [
    "***CONNECTOR FUNCTIONS TO READ DATA.***"
   ]
  },
  {
   "cell_type": "code",
   "execution_count": null,
   "id": "cac78573",
   "metadata": {},
   "outputs": [],
   "source": [
    "import os\n",
    "import pandas as pd\n",
    "from hdfs3 import HDFileSystem\n",
    "import datetime\n",
    "import logging\n",
    "import warnings\n",
    "warnings.filterwarnings('ignore')\n",
    "logging.basicConfig(format='%(levelname)s:%(message)s', level=logging.INFO)\n",
    "\n",
    "\n",
    "class HDFSConnector:\n",
    "\n",
    "    def fetch(spark, config):\n",
    "        ################### INPUT HADOOP HOST PORT TO CONNECT WITH ###############################\n",
    "        hdfs_server = str(os.environ['HDFS_SERVER'])\n",
    "        hdfs_port = int(os.environ['HDFS_PORT'])\n",
    "        hdfs = HDFileSystem(host=hdfs_server, port=hdfs_port)\n",
    "        #hdfs = HDFileSystem(host=eval(config)['host'], port=eval(config)['port'])\n",
    "        with hdfs.open(eval(config)['url']) as f:\n",
    "            dfPd = pd.read_csv(f, error_bad_lines=False)\n",
    "        df = spark.createDataFrame(dfPd)\n",
    "        display(df.limit(2).toPandas())\n",
    "        return df\n",
    "\n",
    "    def put(df, spark, config):\n",
    "        return df.write.format('csv').options(header='true' if eval(config)[\"is_header\"] == \"Use Header Line\" else 'false',\n",
    "                                              delimiter=eval(config)[\"delimiter\"]).save((\"%s %s\") % (datetime.datetime.now().strftime(\"%Y-%m-%d %H.%M.%S\")+\"_\", eval(config)['url']))\n"
   ]
  },
  {
   "cell_type": "markdown",
   "id": "754cc13a",
   "metadata": {},
   "source": [
    "***TRANSFORMATIONS FUNCTIONS THAT WILL BE APPLIED ON DATA***"
   ]
  },
  {
   "cell_type": "code",
   "execution_count": null,
   "id": "2b8f8885",
   "metadata": {},
   "outputs": [],
   "source": [
    "import json\n",
    "import pyspark\n",
    "from pyspark.sql.functions import col, when\n",
    "from pyspark.sql.functions import mean, stddev, min, max, col\n",
    "\n",
    "\n",
    "class CleanseData:\n",
    "    # def __init__(self,df):\n",
    "    #     #print()\n",
    "\n",
    "    def cleanValueForFE(self, value):\n",
    "        if value == None:\n",
    "            return \"\"\n",
    "        elif str(value) == 'nan':\n",
    "            return \"nan\"\n",
    "        else:\n",
    "            return value\n",
    "\n",
    "    def replaceByMean(self, feature, df, mean_=-1):\n",
    "        df1 = df\n",
    "        df1 = df1.dropna()\n",
    "        meanValue = self.cleanValueForFE(df1.select(\n",
    "            mean(col(feature.name)).alias('mean')).collect()[0][\"mean\"])\n",
    "        df = df.fillna(meanValue, subset=[feature.name])\n",
    "        df.withColumn(feature.name, when(col(feature.name) == \" \",\n",
    "                      meanValue).otherwise(col(feature.name).cast(\"Integer\")))\n",
    "        return df\n",
    "\n",
    "    def replaceByMax(self, feature, df, max_=-1):\n",
    "        df1 = df\n",
    "        df1 = df1.dropna()\n",
    "        maxValue = self.cleanValueForFE(df1.select(\n",
    "            max(col(feature.name)).alias('max')).collect()[0][\"max\"])\n",
    "        df = df.fillna(maxValue, subset=[feature.name])\n",
    "        df = df.withColumn(feature.name,\n",
    "                           when(col(feature.name) == \" \", maxValue).otherwise(col(feature.name)))\n",
    "        return df\n",
    "\n",
    "    def replaceByMin(self, feature, df, min_=-1):\n",
    "        df1 = df\n",
    "        df1 = df1.dropna()\n",
    "        minValue = self.cleanValueForFE(df1.select(\n",
    "            min(col(feature.name)).alias('min')).collect()[0][\"min\"])\n",
    "        df = df.fillna(minValue, subset=[feature.name])\n",
    "        df = df.withColumn(feature.name,\n",
    "                           when(col(feature.name) == \" \", minValue).otherwise(col(feature.name)))\n",
    "        return df\n",
    "\n",
    "    def replaceByStandardDeviation(self, feature, df, stddev_=-1):\n",
    "        df1 = df\n",
    "        df1 = df1.dropna()\n",
    "        stddevValue = self.cleanValueForFE(df1.select(\n",
    "            stddev(col(feature.name)).alias('stddev')).collect()[0][\"stddev\"])\n",
    "        df = df.fillna(stddevValue, subset=[feature.name])\n",
    "        df = df.withColumn(feature.name,\n",
    "                           when(col(feature.name) == \" \", stddevValue).otherwise(col(feature.name)))\n",
    "        return df\n",
    "\n",
    "    def replaceDateRandomly(self, feature, df):\n",
    "        df1 = df\n",
    "        df1 = df1.dropna()\n",
    "        fillValue = self.cleanValueForFE(\n",
    "            df.where(col(feature.name).isNotNull()).head(1)[0][feature.name])\n",
    "        df = df.fillna(str(fillValue), subset=[feature.name])\n",
    "        df = df.withColumn(feature.name,\n",
    "                           when(col(feature.name) == \" \", fillValue).otherwise(col(feature.name)))\n",
    "        # print(\"CleanseData:replaceDateRandomly Schema : \", df.#printSchema())\n",
    "        return df\n",
    "\n",
    "    def replaceNullValues(self, fList, df):\n",
    "        featuresList = df.schema.fields\n",
    "        for featureObj in fList:\n",
    "            for feat in featuresList:\n",
    "                if featureObj[\"feature\"] in feat.name:\n",
    "                    featureName = feat\n",
    "                    if \"mean\" in featureObj[\"replaceby\"]:\n",
    "                        df = self.replaceByMean(featureName, df)\n",
    "                    elif \"max\" in featureObj[\"replaceby\"]:\n",
    "                        df = self.replaceByMax(featureName, df)\n",
    "                    elif \"min\" in featureObj[\"replaceby\"]:\n",
    "                        df = self.replaceByMin(featureName, df)\n",
    "                    elif \"stddev\" in featureObj[\"replaceby\"]:\n",
    "                        df = self.replaceByStandardDeviation(featureName, df)\n",
    "                    elif \"random\" in featureObj[\"replaceby\"]:\n",
    "                        df = self.replaceDateRandomly(featureName, df)\n",
    "        return df\n",
    "\n",
    "\n",
    "class TransformationTimeSeriesForecastingMain:\n",
    "    # TODO: change df argument in run with following\n",
    "    def run(transformationDF, config):\n",
    "        configObj = json.loads(config)\n",
    "        featureData = configObj[\"FE\"]['featureList']\n",
    "        ForecastFE = configObj[\"FE\"]\n",
    "        featuresSelectedList = [ForecastFE['features']\n",
    "                                ['timecolumn'], ForecastFE['features']['tocompare']]\n",
    "        transformedDF = transformationDF.select(\n",
    "            [c for c in transformationDF.columns if c in featuresSelectedList])\n",
    "        transformedDF = CleanseData().replaceNullValues(featureData, transformedDF)\n",
    "\n",
    "        transformedDF.persist(pyspark.StorageLevel.MEMORY_AND_DISK)\n",
    "        df = transformedDF.toPandas()\n",
    "        return df\n"
   ]
  },
  {
   "cell_type": "markdown",
   "id": "aa5df7c9",
   "metadata": {},
   "source": [
    "***AUTOML FUNCTIONS***"
   ]
  },
  {
   "cell_type": "code",
   "execution_count": null,
   "id": "fad9a61b",
   "metadata": {},
   "outputs": [],
   "source": [
    "from prophet import Prophet\n",
    "import pandas as pd\n",
    "\n",
    "\n",
    "def driverProphet(df):\n",
    "    df.columns = ['ds', 'y']\n",
    "    df['ds'] = df['ds'].astype(str).str[:-6]\n",
    "    df['ds'] = pd.to_datetime(df['ds'])\n",
    "    m = Prophet()\n",
    "    m.fit(df)\n",
    "    future = m.make_future_dataframe(periods=365)\n",
    "    forecast = m.predict(future)\n",
    "    forecast[['ds', 'yhat', 'yhat_lower', 'yhat_upper']].tail()\n",
    "    m.plot(forecast)\n",
    "    return m\n"
   ]
  },
  {
   "cell_type": "markdown",
   "id": "2a6ecd5b",
   "metadata": {},
   "source": [
    "***READING DATAFRAME***"
   ]
  },
  {
   "cell_type": "code",
   "execution_count": null,
   "id": "92981755",
   "metadata": {},
   "outputs": [],
   "source": [
    "############## CREATE SPARK SESSION ############################ ENTER YOUR SPARK MASTER IP AND PORT TO CONNECT TO SERVER ################\n",
    "from pyspark.sql import SparkSession\n",
    "spark = SparkSession.builder.master('local[1]').getOrCreate()\n",
    "#%run ts25octtestHooks.ipynb\n",
    "try:\n",
    "\t#sourcePreExecutionHook()\n",
    "\n",
    "\tairpaengertrain = HDFSConnector.fetch(spark, \"{'url': '/FileStore/platform/testdata/1692380755117_AIRPassengerTrain.csv', 'filename': 'AIRPassengerTrain.csv', 'delimiter': ',', 'file_type': 'Delimeted', 'dbfs_token': '', 'dbfs_domain': '', 'FilePath': '/Retail Marketing/Air Passenger/AIRPassengerTrain.csv', 'viewFileName': 'AIRPassengerTrain.csv', 'is_header': 'Use Header Line', 'baseType': 'hdfs', 'server_url': '/numtraPlatform/NumtraPlatformV3/uploads/platform/', 'results_url': 'http://ml.numtra.com:44040/api/read/hdfs'}\")\n",
    "\n",
    "except Exception as ex: \n",
    "\tlogging.error(ex)\n",
    "#spark.stop()\n"
   ]
  },
  {
   "cell_type": "markdown",
   "id": "c2608265",
   "metadata": {},
   "source": [
    "***TRANSFORMING DATAFRAME***"
   ]
  },
  {
   "cell_type": "code",
   "execution_count": null,
   "id": "2d7f40ce",
   "metadata": {},
   "outputs": [],
   "source": [
    "#%run ts25octtestHooks.ipynb\n",
    "try:\n",
    "\t#transformationPreExecutionHook()\n",
    "\n",
    "\ttsocttestfeatureforecast = TransformationTimeSeriesForecastingMain.run(airpaengertrain, json.dumps( {\"FE\": {\"functionList\": [{\"function\": \"Original\"}], \"stage_attributes\": {}, \"featureList\": [{\"transformationsData\": [{}], \"feature\": \"Month\", \"type\": \"date\", \"selected\": \"True\", \"replaceby\": \"random\", \"stats\": {\"count\": \"\", \"mean\": \"\", \"stddev\": \"\", \"min\": \"\", \"max\": \"\", \"missing\": \"0\"}, \"transformation\": [{\"transformation\": \"novalue\", \"selectedAsDefault\": 1}], \"updatedLabel\": \"Month\"}, {\"transformationsData\": [{\"transformation_label\": \"novalue\"}], \"feature\": \"#Passengers\", \"transformation\": [{\"transformation\": \"novalue\", \"selectedAsDefault\": 1}], \"type\": \"numeric\", \"replaceby\": \"mean\", \"selected\": \"True\", \"stats\": {\"count\": \"144\", \"mean\": \"280.3\", \"stddev\": \"119.97\", \"min\": \"104\", \"max\": \"622\", \"missing\": \"0\"}, \"updatedLabel\": \"#Passengers\"}], \"features\": {\"timecolumn\": \"Month\", \"tocompare\": \"#Passengers\"}, \"dataPercentage\": \"20\", \"originalfile\": \"/FileStore/platform/testdata/1692380755117_AIRPassengerTrain.csv\", \"statFunction\": {\"function\": \"Original\", \"parameter\": \"\"}}}))\n",
    "\n",
    "\t#transformationPostExecutionHook(tsocttestfeatureforecast)\n",
    "\n",
    "except Exception as ex: \n",
    "\tlogging.error(ex)\n"
   ]
  },
  {
   "cell_type": "markdown",
   "id": "77f46347",
   "metadata": {},
   "source": [
    "***TRAIN MODEL***"
   ]
  },
  {
   "cell_type": "code",
   "execution_count": null,
   "id": "de6e2aa6",
   "metadata": {},
   "outputs": [],
   "source": [
    "#%run ts25octtestHooks.ipynb\n",
    "try:\n",
    "\t#mlPreExecutionHook()\n",
    "\n",
    "\tmodel = driverProphet(tsocttestfeatureforecast)\n",
    "\n",
    "\t#mlPostExecutionHook(model)\n",
    "\n",
    "except Exception as ex: \n",
    "\tlogging.error(ex)\n",
    "#spark.stop()\n"
   ]
  },
  {
   "cell_type": "markdown",
   "id": "74852087",
   "metadata": {},
   "source": [
    "***PREDICT ON TRAINED MODEL***"
   ]
  },
  {
   "cell_type": "code",
   "execution_count": null,
   "id": "edd0cac5",
   "metadata": {},
   "outputs": [],
   "source": [
    "try:\n",
    "        future = model.make_future_dataframe(periods=30,freq='MS',include_history=False)\n",
    "        predictedDataFrame = model.predict(future)\n",
    "        display(model.plot(predictedDataFrame))\n",
    "        display(model.plot_components(predictedDataFrame))\n",
    "        display(predictedDataFrame)\n",
    "except Exception as ex:\n",
    "    logging.error(ex)\n",
    "\n",
    "spark.stop()\n",
    "\n",
    "\n"
   ]
  }
 ],
 "metadata": {},
 "nbformat": 4,
 "nbformat_minor": 5
}
